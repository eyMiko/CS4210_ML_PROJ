{
 "cells": [
  {
   "cell_type": "code",
   "execution_count": 1,
   "id": "0a3643cb",
   "metadata": {},
   "outputs": [],
   "source": [
    "import pandas as pd\n",
    "import numpy as np\n",
    "import seaborn as sns\n",
    "import pickle\n",
    "import joblib\n",
    "import matplotlib.pyplot as plt\n",
    "from sklearn import svm\n",
    "from sklearn import metrics\n",
    "from sklearn.model_selection import train_test_split\n",
    "from sklearn.feature_extraction.text import TfidfVectorizer\n",
    "from sklearn.metrics import accuracy_score\n",
    "from sklearn.metrics import precision_recall_curve\n",
    "import matplotlib.pyplot as plt"
   ]
  },
  {
   "cell_type": "code",
   "execution_count": 2,
   "id": "21652681",
   "metadata": {},
   "outputs": [],
   "source": [
    "# DataFrame for clean data on news & its label\n",
    "data = pd.read_csv('cleaned_data.csv')"
   ]
  },
  {
   "cell_type": "code",
   "execution_count": 3,
   "id": "53316fa5",
   "metadata": {},
   "outputs": [],
   "source": [
    "# test/train split for X and Y\n",
    "\n",
    "X_train, X_test, Y_train, Y_test = train_test_split(data['News'], data['Label'], test_size=0.2, random_state=21, shuffle=True)"
   ]
  },
  {
   "cell_type": "markdown",
   "id": "bbcb7a1b",
   "metadata": {},
   "source": [
    "## Support Vector Machine (Linear Kernel)\n",
    "Trying to find the best accuracy by changing the max_features value."
   ]
  },
  {
   "cell_type": "code",
   "execution_count": 4,
   "id": "7e15799d",
   "metadata": {},
   "outputs": [],
   "source": [
    "max_features_val = []\n",
    "accuracy_val = []\n",
    "precision_val = []\n",
    "recall_val = []\n",
    "f1_val = []"
   ]
  },
  {
   "cell_type": "code",
   "execution_count": 5,
   "id": "74ffb4df",
   "metadata": {},
   "outputs": [
    {
     "name": "stdout",
     "output_type": "stream",
     "text": [
      "SVM metric scores for Linear Kernel with 5 Features\n",
      "Accuracy:  0.7552338530066816\n",
      "Precision:  0.7180635529963745\n",
      "Recall:  0.7935423049728966\n",
      "F1:  0.7539184952978056\n"
     ]
    }
   ],
   "source": [
    "# Creating the vectorizer using TfidfVectorizer\n",
    "vectorize = TfidfVectorizer(max_features=5)\n",
    "vectorize.fit(data['News'])\n",
    "\n",
    "train_x_vectorize = vectorize.transform(X_train)\n",
    "test_x_vectorize = vectorize.transform(X_test)\n",
    "\n",
    "# Creating the SVM model\n",
    "SVM = svm.SVC(C=1, kernel='linear', degree=3, gamma='auto')\n",
    "SVM.fit(train_x_vectorize, Y_train)\n",
    "\n",
    "# Predicting the accuracy on testing data\n",
    "pred = SVM.predict(test_x_vectorize)\n",
    "\n",
    "# metric values\n",
    "print(\"SVM metric scores for Linear Kernel with 5 Features\")\n",
    "print(\"Accuracy: \", metrics.accuracy_score(Y_test, pred))\n",
    "print(\"Precision: \", metrics.precision_score(Y_test, pred))\n",
    "print(\"Recall: \", metrics.recall_score(Y_test, pred))\n",
    "print(\"F1: \", metrics.f1_score(Y_test, pred))\n",
    "\n",
    "# appending values into list for graph\n",
    "max_features_val.append(5)\n",
    "accuracy_val.append(metrics.accuracy_score(Y_test, pred))\n",
    "precision_val.append(metrics.precision_score(Y_test, pred))\n",
    "recall_val.append(metrics.recall_score(Y_test, pred))\n",
    "f1_val.append(metrics.f1_score(Y_test, pred))"
   ]
  },
  {
   "cell_type": "code",
   "execution_count": 6,
   "id": "ed7eb6d2",
   "metadata": {},
   "outputs": [
    {
     "name": "stdout",
     "output_type": "stream",
     "text": [
      "SVM metric scores for Linear Kernel with 10 Features\n",
      "Accuracy:  0.8044543429844098\n",
      "Precision:  0.7906052816078523\n",
      "Recall:  0.7973132217770446\n",
      "F1:  0.7939450833137761\n"
     ]
    }
   ],
   "source": [
    "# Creating the vectorizer using TfidfVectorizer\n",
    "vectorize = TfidfVectorizer(max_features=10)\n",
    "vectorize.fit(data['News'])\n",
    "\n",
    "train_x_vectorize = vectorize.transform(X_train)\n",
    "test_x_vectorize = vectorize.transform(X_test)\n",
    "\n",
    "# Creating the SVM model\n",
    "SVM = svm.SVC(C=1, kernel='linear', degree=3, gamma='auto')\n",
    "SVM.fit(train_x_vectorize, Y_train)\n",
    "\n",
    "# Predicting the accuracy on testing data\n",
    "pred = SVM.predict(test_x_vectorize)\n",
    "\n",
    "# metric values\n",
    "print(\"SVM metric scores for Linear Kernel with 10 Features\")\n",
    "print(\"Accuracy: \", metrics.accuracy_score(Y_test, pred))\n",
    "print(\"Precision: \", metrics.precision_score(Y_test, pred))\n",
    "print(\"Recall: \", metrics.recall_score(Y_test, pred))\n",
    "print(\"F1: \", metrics.f1_score(Y_test, pred))\n",
    "\n",
    "# appending values into list for graph\n",
    "max_features_val.append(10)\n",
    "accuracy_val.append(metrics.accuracy_score(Y_test, pred))\n",
    "precision_val.append(metrics.precision_score(Y_test, pred))\n",
    "recall_val.append(metrics.recall_score(Y_test, pred))\n",
    "f1_val.append(metrics.f1_score(Y_test, pred))"
   ]
  },
  {
   "cell_type": "code",
   "execution_count": 7,
   "id": "2c2c7d34",
   "metadata": {},
   "outputs": [
    {
     "name": "stdout",
     "output_type": "stream",
     "text": [
      "SVM metric scores for Linear Kernel with 25 Features\n",
      "Accuracy:  0.9910913140311804\n",
      "Precision:  0.9894192334822478\n",
      "Recall:  0.9917511194909262\n",
      "F1:  0.9905838041431262\n"
     ]
    }
   ],
   "source": [
    "# Creating the vectorizer using TfidfVectorizer\n",
    "vectorize = TfidfVectorizer(max_features=25)\n",
    "vectorize.fit(data['News'])\n",
    "\n",
    "train_x_vectorize = vectorize.transform(X_train)\n",
    "test_x_vectorize = vectorize.transform(X_test)\n",
    "\n",
    "# Creating the SVM model\n",
    "SVM = svm.SVC(C=1, kernel='linear', degree=3, gamma='auto')\n",
    "SVM.fit(train_x_vectorize, Y_train)\n",
    "\n",
    "# Predicting the accuracy on testing data\n",
    "pred = SVM.predict(test_x_vectorize)\n",
    "\n",
    "# metric values\n",
    "print(\"SVM metric scores for Linear Kernel with 25 Features\")\n",
    "print(\"Accuracy: \", metrics.accuracy_score(Y_test, pred))\n",
    "print(\"Precision: \", metrics.precision_score(Y_test, pred))\n",
    "print(\"Recall: \", metrics.recall_score(Y_test, pred))\n",
    "print(\"F1: \", metrics.f1_score(Y_test, pred))\n",
    "\n",
    "# appending values into list for graph\n",
    "max_features_val.append(25)\n",
    "accuracy_val.append(metrics.accuracy_score(Y_test, pred))\n",
    "precision_val.append(metrics.precision_score(Y_test, pred))\n",
    "recall_val.append(metrics.recall_score(Y_test, pred))\n",
    "f1_val.append(metrics.f1_score(Y_test, pred))"
   ]
  },
  {
   "cell_type": "code",
   "execution_count": 8,
   "id": "c67b0376",
   "metadata": {},
   "outputs": [
    {
     "name": "stdout",
     "output_type": "stream",
     "text": [
      "SVM metric scores for Linear Kernel with 50 Features\n",
      "Accuracy:  0.9900890868596882\n",
      "Precision:  0.9896275341819897\n",
      "Recall:  0.9893942964883338\n",
      "F1:  0.989510901591043\n"
     ]
    }
   ],
   "source": [
    "# Creating the vectorizer using TfidfVectorizer\n",
    "vectorize = TfidfVectorizer(max_features=50)\n",
    "vectorize.fit(data['News'])\n",
    "\n",
    "train_x_vectorize = vectorize.transform(X_train)\n",
    "test_x_vectorize = vectorize.transform(X_test)\n",
    "\n",
    "# Creating the SVM model\n",
    "SVM = svm.SVC(C=1, kernel='linear', degree=3, gamma='auto')\n",
    "SVM.fit(train_x_vectorize, Y_train)\n",
    "\n",
    "# Predicting the accuracy on testing data\n",
    "pred = SVM.predict(test_x_vectorize)\n",
    "\n",
    "# metric values\n",
    "print(\"SVM metric scores for Linear Kernel with 50 Features\")\n",
    "print(\"Accuracy: \", metrics.accuracy_score(Y_test, pred))\n",
    "print(\"Precision: \", metrics.precision_score(Y_test, pred))\n",
    "print(\"Recall: \", metrics.recall_score(Y_test, pred))\n",
    "print(\"F1: \", metrics.f1_score(Y_test, pred))\n",
    "\n",
    "# appending values into list for graph\n",
    "max_features_val.append(50)\n",
    "accuracy_val.append(metrics.accuracy_score(Y_test, pred))\n",
    "precision_val.append(metrics.precision_score(Y_test, pred))\n",
    "recall_val.append(metrics.recall_score(Y_test, pred))\n",
    "f1_val.append(metrics.f1_score(Y_test, pred))"
   ]
  },
  {
   "cell_type": "code",
   "execution_count": 9,
   "id": "fb5a0c53",
   "metadata": {},
   "outputs": [
    {
     "name": "stdout",
     "output_type": "stream",
     "text": [
      "SVM metric scores for Linear Kernel with 100 Features\n",
      "Accuracy:  0.9913140311804008\n",
      "Precision:  0.9896543616270868\n",
      "Recall:  0.9919868017911855\n",
      "F1:  0.990819209039548\n"
     ]
    }
   ],
   "source": [
    "# Creating the vectorizer using TfidfVectorizer\n",
    "vectorize = TfidfVectorizer(max_features=100)\n",
    "vectorize.fit(data['News'])\n",
    "\n",
    "train_x_vectorize = vectorize.transform(X_train)\n",
    "test_x_vectorize = vectorize.transform(X_test)\n",
    "\n",
    "# Creating the SVM model\n",
    "SVM = svm.SVC(C=1, kernel='linear', degree=3, gamma='auto')\n",
    "SVM.fit(train_x_vectorize, Y_train)\n",
    "\n",
    "# Predicting the accuracy on testing data\n",
    "pred = SVM.predict(test_x_vectorize)\n",
    "\n",
    "# metric values\n",
    "print(\"SVM metric scores for Linear Kernel with 100 Features\")\n",
    "print(\"Accuracy: \", metrics.accuracy_score(Y_test, pred))\n",
    "print(\"Precision: \", metrics.precision_score(Y_test, pred))\n",
    "print(\"Recall: \", metrics.recall_score(Y_test, pred))\n",
    "print(\"F1: \", metrics.f1_score(Y_test, pred))\n",
    "\n",
    "# appending values into list for graph\n",
    "max_features_val.append(100)\n",
    "accuracy_val.append(metrics.accuracy_score(Y_test, pred))\n",
    "precision_val.append(metrics.precision_score(Y_test, pred))\n",
    "recall_val.append(metrics.recall_score(Y_test, pred))\n",
    "f1_val.append(metrics.f1_score(Y_test, pred))"
   ]
  },
  {
   "cell_type": "code",
   "execution_count": 10,
   "id": "dc5dd881",
   "metadata": {},
   "outputs": [
    {
     "name": "stdout",
     "output_type": "stream",
     "text": [
      "SVM metric scores for Linear Kernel with 250 Features\n",
      "Accuracy:  0.9918708240534521\n",
      "Precision:  0.989206945096199\n",
      "Recall:  0.9936365778930002\n",
      "F1:  0.9914168136390358\n"
     ]
    }
   ],
   "source": [
    "# Creating the vectorizer using TfidfVectorizer\n",
    "vectorize = TfidfVectorizer(max_features=250)\n",
    "vectorize.fit(data['News'])\n",
    "\n",
    "train_x_vectorize = vectorize.transform(X_train)\n",
    "test_x_vectorize = vectorize.transform(X_test)\n",
    "\n",
    "# Creating the SVM model\n",
    "SVM = svm.SVC(C=1, kernel='linear', degree=3, gamma='auto')\n",
    "SVM.fit(train_x_vectorize, Y_train)\n",
    "\n",
    "# Predicting the accuracy on testing data\n",
    "pred = SVM.predict(test_x_vectorize)\n",
    "\n",
    "# metric values\n",
    "print(\"SVM metric scores for Linear Kernel with 250 Features\")\n",
    "print(\"Accuracy: \", metrics.accuracy_score(Y_test, pred))\n",
    "print(\"Precision: \", metrics.precision_score(Y_test, pred))\n",
    "print(\"Recall: \", metrics.recall_score(Y_test, pred))\n",
    "print(\"F1: \", metrics.f1_score(Y_test, pred))\n",
    "\n",
    "# appending values into list for graph\n",
    "max_features_val.append(250)\n",
    "accuracy_val.append(metrics.accuracy_score(Y_test, pred))\n",
    "precision_val.append(metrics.precision_score(Y_test, pred))\n",
    "recall_val.append(metrics.recall_score(Y_test, pred))\n",
    "f1_val.append(metrics.f1_score(Y_test, pred))"
   ]
  },
  {
   "cell_type": "code",
   "execution_count": 11,
   "id": "e39a5c3e",
   "metadata": {},
   "outputs": [
    {
     "data": {
      "text/plain": [
       "<matplotlib.legend.Legend at 0x28ced91adc0>"
      ]
     },
     "execution_count": 11,
     "metadata": {},
     "output_type": "execute_result"
    },
    {
     "data": {
      "image/png": "[encoded data removed]",
      "text/plain": [
       "<Figure size 432x288 with 1 Axes>"
      ]
     },
     "metadata": {
      "needs_background": "light"
     },
     "output_type": "display_data"
    }
   ],
   "source": [
    "# Plot the metrics vs max_features\n",
    "fig, ax = plt.subplots()\n",
    "ax.set(xlabel='Max Features',\n",
    "          ylabel=\"Metrics\",\n",
    "          title=\"Metrics vs Max Features for linear\")\n",
    "\n",
    "ax.plot(max_features_val, accuracy_val, label = \"Accuracy\", linestyle='-')\n",
    "ax.plot(max_features_val, precision_val, label = \"Precision\", linestyle='--')\n",
    "ax.plot(max_features_val, recall_val, label = \"Recall\", linestyle='-.')\n",
    "ax.plot(max_features_val, f1_val, label = \"F1\", linestyle=':')\n",
    "ax.legend(loc=\"lower left\")"
   ]
  },
  {
   "cell_type": "code",
   "execution_count": 12,
   "id": "cf08ce0c",
   "metadata": {},
   "outputs": [
    {
     "data": {
      "text/plain": [
       "(array([0.5, 1.5]), [Text(0, 0.5, '0'), Text(0, 1.5, '1')])"
      ]
     },
     "execution_count": 12,
     "metadata": {},
     "output_type": "execute_result"
    },
    {
     "data": {
      "image/png": "[encoded data removed]",
      "text/plain": [
       "<Figure size 432x288 with 1 Axes>"
      ]
     },
     "metadata": {
      "needs_background": "light"
     },
     "output_type": "display_data"
    }
   ],
   "source": [
    "# Confusion matrix for Linear, 250 Features\n",
    "classes = np.unique(Y_test)\n",
    "confusionMatrix = metrics.confusion_matrix(Y_test, pred)\n",
    "fig, ax = plt.subplots()\n",
    "sns.heatmap(confusionMatrix, annot=True, fmt='d', ax=ax, cmap=plt.cm.Blues, \n",
    "            cbar=False)\n",
    "ax.set(xlabel=\"Prediction\", ylabel=\"True\", xticklabels=classes, \n",
    "       yticklabels=classes, title=\"Confusion matrix\")\n",
    "plt.yticks(rotation=0)"
   ]
  },
  {
   "cell_type": "markdown",
   "id": "bd09eb99",
   "metadata": {},
   "source": [
    "## Support Vector Machine (rbf) \n",
    "Trying to find the best accuracy by changing the max_features value."
   ]
  },
  {
   "cell_type": "code",
   "execution_count": 4,
   "id": "35f14717",
   "metadata": {},
   "outputs": [],
   "source": [
    "rbf_max_features_val = []\n",
    "rbf_accuracy_val = []\n",
    "rbf_precision_val = []\n",
    "rbf_recall_val = []\n",
    "rbf_f1_val = []"
   ]
  },
  {
   "cell_type": "code",
   "execution_count": 5,
   "id": "115aa5af",
   "metadata": {},
   "outputs": [
    {
     "name": "stdout",
     "output_type": "stream",
     "text": [
      "SVM metric scores for RBF Kernel at 5 Features\n",
      "Accuracy:  0.7636971046770601\n",
      "Precision:  0.7058823529411765\n",
      "Recall:  0.8569408437426349\n",
      "F1:  0.7741111347668724\n"
     ]
    }
   ],
   "source": [
    "# Creating the vectorizer using TfidfVectorizer\n",
    "vectorize = TfidfVectorizer(max_features=5)\n",
    "vectorize.fit(data['News'])\n",
    "\n",
    "train_x_vectorize = vectorize.transform(X_train)\n",
    "test_x_vectorize = vectorize.transform(X_test)\n",
    "\n",
    "# RBF kernel\n",
    "SVMR = svm.SVC(C=1, kernel='rbf', degree=3, gamma='auto')\n",
    "SVMR.fit(train_x_vectorize, Y_train)\n",
    "\n",
    "predR = SVMR.predict(test_x_vectorize)\n",
    "\n",
    "# metrics \n",
    "print(\"SVM metric scores for RBF Kernel at 5 Features\")\n",
    "print(\"Accuracy: \", metrics.accuracy_score(Y_test, predR))\n",
    "print(\"Precision: \", metrics.precision_score(Y_test, predR))\n",
    "print(\"Recall: \", metrics.recall_score(Y_test, predR))\n",
    "print(\"F1: \", metrics.f1_score(Y_test, predR))\n",
    "\n",
    "rbf_max_features_val.append(5)\n",
    "rbf_accuracy_val.append(metrics.accuracy_score(Y_test, predR))\n",
    "rbf_precision_val.append(metrics.precision_score(Y_test, predR))\n",
    "rbf_recall_val.append(metrics.recall_score(Y_test, predR))\n",
    "rbf_f1_val.append(metrics.f1_score(Y_test, predR))"
   ]
  },
  {
   "cell_type": "code",
   "execution_count": 6,
   "id": "31a088fb",
   "metadata": {},
   "outputs": [
    {
     "name": "stdout",
     "output_type": "stream",
     "text": [
      "SVM metric scores for RBF Kernel at 10 Features\n",
      "Accuracy:  0.8099109131403118\n",
      "Precision:  0.7800353356890459\n",
      "Recall:  0.8324298845156729\n",
      "F1:  0.805381370425265\n"
     ]
    }
   ],
   "source": [
    "# Creating the vectorizer using TfidfVectorizer\n",
    "vectorize = TfidfVectorizer(max_features=10)\n",
    "vectorize.fit(data['News'])\n",
    "\n",
    "train_x_vectorize = vectorize.transform(X_train)\n",
    "test_x_vectorize = vectorize.transform(X_test)\n",
    "\n",
    "# RBF kernel\n",
    "SVMR = svm.SVC(C=1, kernel='rbf', degree=3, gamma='auto')\n",
    "SVMR.fit(train_x_vectorize, Y_train)\n",
    "\n",
    "predR = SVMR.predict(test_x_vectorize)\n",
    "\n",
    "# metrics\n",
    "print(\"SVM metric scores for RBF Kernel at 10 Features\")\n",
    "print(\"Accuracy: \", metrics.accuracy_score(Y_test, predR))\n",
    "print(\"Precision: \", metrics.precision_score(Y_test, predR))\n",
    "print(\"Recall: \", metrics.recall_score(Y_test, predR))\n",
    "print(\"F1: \", metrics.f1_score(Y_test, predR))\n",
    "\n",
    "rbf_max_features_val.append(10)\n",
    "rbf_accuracy_val.append(metrics.accuracy_score(Y_test, predR))\n",
    "rbf_precision_val.append(metrics.precision_score(Y_test, predR))\n",
    "rbf_recall_val.append(metrics.recall_score(Y_test, predR))\n",
    "rbf_f1_val.append(metrics.f1_score(Y_test, predR))"
   ]
  },
  {
   "cell_type": "code",
   "execution_count": 7,
   "id": "c25fc46a",
   "metadata": {},
   "outputs": [
    {
     "name": "stdout",
     "output_type": "stream",
     "text": [
      "SVM metric scores for RBF Kernel at 25 Features\n",
      "Accuracy:  0.9815144766146994\n",
      "Precision:  0.9859356376638856\n",
      "Recall:  0.9747819938722602\n",
      "F1:  0.9803270917278976\n"
     ]
    }
   ],
   "source": [
    "# Creating the vectorizer using TfidfVectorizer\n",
    "vectorize = TfidfVectorizer(max_features=25)\n",
    "vectorize.fit(data['News'])\n",
    "\n",
    "train_x_vectorize = vectorize.transform(X_train)\n",
    "test_x_vectorize = vectorize.transform(X_test)\n",
    "\n",
    "# RBF kernel\n",
    "SVMR = svm.SVC(C=1, kernel='rbf', degree=3, gamma='auto')\n",
    "SVMR.fit(train_x_vectorize, Y_train)\n",
    "\n",
    "predR = SVMR.predict(test_x_vectorize)\n",
    "\n",
    "# metrics\n",
    "print(\"SVM metric scores for RBF Kernel at 25 Features\")\n",
    "print(\"Accuracy: \", metrics.accuracy_score(Y_test, predR))\n",
    "print(\"Precision: \", metrics.precision_score(Y_test, predR))\n",
    "print(\"Recall: \", metrics.recall_score(Y_test, predR))\n",
    "print(\"F1: \", metrics.f1_score(Y_test, predR))\n",
    "\n",
    "rbf_max_features_val.append(25)\n",
    "rbf_accuracy_val.append(metrics.accuracy_score(Y_test, predR))\n",
    "rbf_precision_val.append(metrics.precision_score(Y_test, predR))\n",
    "rbf_recall_val.append(metrics.recall_score(Y_test, predR))\n",
    "rbf_f1_val.append(metrics.f1_score(Y_test, predR))"
   ]
  },
  {
   "cell_type": "code",
   "execution_count": 8,
   "id": "fd582f8d",
   "metadata": {},
   "outputs": [
    {
     "name": "stdout",
     "output_type": "stream",
     "text": [
      "SVM metric scores for RBF Kernel at 50 Features\n",
      "Accuracy:  0.9685968819599109\n",
      "Precision:  0.9685356044475988\n",
      "Recall:  0.9648833372613717\n",
      "F1:  0.9667060212514759\n"
     ]
    }
   ],
   "source": [
    "# Creating the vectorizer using TfidfVectorizer\n",
    "vectorize = TfidfVectorizer(max_features=50)\n",
    "vectorize.fit(data['News'])\n",
    "\n",
    "train_x_vectorize = vectorize.transform(X_train)\n",
    "test_x_vectorize = vectorize.transform(X_test)\n",
    "\n",
    "# RBF kernel\n",
    "SVMR = svm.SVC(C=1, kernel='rbf', degree=3, gamma='auto')\n",
    "SVMR.fit(train_x_vectorize, Y_train)\n",
    "\n",
    "predR = SVMR.predict(test_x_vectorize)\n",
    "\n",
    "# metrics\n",
    "print(\"SVM metric scores for RBF Kernel at 50 Features\")\n",
    "print(\"Accuracy: \", metrics.accuracy_score(Y_test, predR))\n",
    "print(\"Precision: \", metrics.precision_score(Y_test, predR))\n",
    "print(\"Recall: \", metrics.recall_score(Y_test, predR))\n",
    "print(\"F1: \", metrics.f1_score(Y_test, predR))\n",
    "\n",
    "rbf_max_features_val.append(50)\n",
    "rbf_accuracy_val.append(metrics.accuracy_score(Y_test, predR))\n",
    "rbf_precision_val.append(metrics.precision_score(Y_test, predR))\n",
    "rbf_recall_val.append(metrics.recall_score(Y_test, predR))\n",
    "rbf_f1_val.append(metrics.f1_score(Y_test, predR))"
   ]
  },
  {
   "cell_type": "code",
   "execution_count": 9,
   "id": "d69c5085",
   "metadata": {},
   "outputs": [
    {
     "name": "stdout",
     "output_type": "stream",
     "text": [
      "SVM metric scores for RBF Kernel at 100 Features\n",
      "Accuracy:  0.9599109131403119\n",
      "Precision:  0.9484869484869485\n",
      "Recall:  0.9677115248644826\n",
      "F1:  0.9580027998133458\n"
     ]
    }
   ],
   "source": [
    "# Creating the vectorizer using TfidfVectorizer\n",
    "vectorize = TfidfVectorizer(max_features=100)\n",
    "vectorize.fit(data['News'])\n",
    "\n",
    "train_x_vectorize = vectorize.transform(X_train)\n",
    "test_x_vectorize = vectorize.transform(X_test)\n",
    "\n",
    "# RBF kernel\n",
    "SVMR = svm.SVC(C=1, kernel='rbf', degree=3, gamma='auto')\n",
    "SVMR.fit(train_x_vectorize, Y_train)\n",
    "\n",
    "predR = SVMR.predict(test_x_vectorize)\n",
    "\n",
    "# metrics\n",
    "print(\"SVM metric scores for RBF Kernel at 100 Features\")\n",
    "print(\"Accuracy: \", metrics.accuracy_score(Y_test, predR))\n",
    "print(\"Precision: \", metrics.precision_score(Y_test, predR))\n",
    "print(\"Recall: \", metrics.recall_score(Y_test, predR))\n",
    "print(\"F1: \", metrics.f1_score(Y_test, predR))\n",
    "\n",
    "rbf_max_features_val.append(100)\n",
    "rbf_accuracy_val.append(metrics.accuracy_score(Y_test, predR))\n",
    "rbf_precision_val.append(metrics.precision_score(Y_test, predR))\n",
    "rbf_recall_val.append(metrics.recall_score(Y_test, predR))\n",
    "rbf_f1_val.append(metrics.f1_score(Y_test, predR))"
   ]
  },
  {
   "cell_type": "code",
   "execution_count": 10,
   "id": "6038cbc8",
   "metadata": {},
   "outputs": [
    {
     "name": "stdout",
     "output_type": "stream",
     "text": [
      "SVM metric scores for RBF Kernel at 250 Features\n",
      "Accuracy:  0.9528953229398663\n",
      "Precision:  0.9402950668510834\n",
      "Recall:  0.961348102757483\n",
      "F1:  0.9507050460319311\n"
     ]
    }
   ],
   "source": [
    "# Creating the vectorizer using TfidfVectorizer\n",
    "vectorize = TfidfVectorizer(max_features=250)\n",
    "vectorize.fit(data['News'])\n",
    "\n",
    "train_x_vectorize = vectorize.transform(X_train)\n",
    "test_x_vectorize = vectorize.transform(X_test)\n",
    "\n",
    "# RBF kernel\n",
    "SVMR = svm.SVC(C=1, kernel='rbf', degree=3, gamma='auto')\n",
    "SVMR.fit(train_x_vectorize, Y_train)\n",
    "\n",
    "predR = SVMR.predict(test_x_vectorize)\n",
    "\n",
    "# metrics\n",
    "print(\"SVM metric scores for RBF Kernel at 250 Features\")\n",
    "print(\"Accuracy: \", metrics.accuracy_score(Y_test, predR))\n",
    "print(\"Precision: \", metrics.precision_score(Y_test, predR))\n",
    "print(\"Recall: \", metrics.recall_score(Y_test, predR))\n",
    "print(\"F1: \", metrics.f1_score(Y_test, predR))\n",
    "\n",
    "rbf_max_features_val.append(250)\n",
    "rbf_accuracy_val.append(metrics.accuracy_score(Y_test, predR))\n",
    "rbf_precision_val.append(metrics.precision_score(Y_test, predR))\n",
    "rbf_recall_val.append(metrics.recall_score(Y_test, predR))\n",
    "rbf_f1_val.append(metrics.f1_score(Y_test, predR))"
   ]
  },
  {
   "cell_type": "code",
   "execution_count": 13,
   "id": "d41bddbc",
   "metadata": {},
   "outputs": [
    {
     "data": {
      "text/plain": [
       "<matplotlib.legend.Legend at 0x23a54799100>"
      ]
     },
     "execution_count": 13,
     "metadata": {},
     "output_type": "execute_result"
    },
    {
     "data": {
      "image/png": "[encoded data removed]",
      "text/plain": [
       "<Figure size 432x288 with 1 Axes>"
      ]
     },
     "metadata": {
      "needs_background": "light"
     },
     "output_type": "display_data"
    }
   ],
   "source": [
    "# Plot the metrics vs max_features\n",
    "fig, ax = plt.subplots()\n",
    "ax.set(xlabel='Max Features',\n",
    "          ylabel=\"Metrics\",\n",
    "          title=\"Metrics vs Max Features for rbf\")\n",
    "\n",
    "ax.plot(rbf_max_features_val, rbf_accuracy_val, label = \"Accuracy\", linestyle='-')\n",
    "ax.plot(rbf_max_features_val, rbf_precision_val, label = \"Precision\", linestyle='--')\n",
    "ax.plot(rbf_max_features_val, rbf_recall_val, label = \"Recall\", linestyle='-.')\n",
    "ax.plot(rbf_max_features_val, rbf_f1_val, label = \"F1\", linestyle=':')\n",
    "ax.legend(loc=\"lower left\")"
   ]
  },
  {
   "cell_type": "markdown",
   "id": "4e50dec5",
   "metadata": {},
   "source": [
    "## Support Vector Machine (Polynomial)\n",
    "Trying to find the best accuracy by changing the max_features value."
   ]
  },
  {
   "cell_type": "code",
   "execution_count": 6,
   "id": "6bae9ea2",
   "metadata": {},
   "outputs": [
    {
     "name": "stdout",
     "output_type": "stream",
     "text": [
      "SVM metric scores for poly Kernel at 5 Features\n",
      "Accuracy:  0.7597995545657016\n",
      "Precision:  0.7211620016963528\n",
      "Recall:  0.8015555031817111\n",
      "F1:  0.7592365219332515\n"
     ]
    }
   ],
   "source": [
    "# Creating the vectorizer using TfidfVectorizer\n",
    "vectorize = TfidfVectorizer(max_features=5)\n",
    "vectorize.fit(data['News'])\n",
    "\n",
    "train_x_vectorize = vectorize.transform(X_train)\n",
    "test_x_vectorize = vectorize.transform(X_test)\n",
    "\n",
    "# poly kernel\n",
    "SVMR = svm.SVC(C=1, kernel='poly', degree=3, gamma='auto')\n",
    "SVMR.fit(train_x_vectorize, Y_train)\n",
    "\n",
    "predR = SVMR.predict(test_x_vectorize)\n",
    "\n",
    "# metrics \n",
    "print(\"SVM metric scores for poly Kernel at 5 Features\")\n",
    "print(\"Accuracy: \", metrics.accuracy_score(Y_test, predR))\n",
    "print(\"Precision: \", metrics.precision_score(Y_test, predR))\n",
    "print(\"Recall: \", metrics.recall_score(Y_test, predR))\n",
    "print(\"F1: \", metrics.f1_score(Y_test, predR))"
   ]
  },
  {
   "cell_type": "code",
   "execution_count": 7,
   "id": "424b0454",
   "metadata": {},
   "outputs": [
    {
     "name": "stdout",
     "output_type": "stream",
     "text": [
      "SVM metric scores for poly Kernel at 10 Features\n",
      "Accuracy:  0.7721603563474387\n",
      "Precision:  0.8175773344897369\n",
      "Recall:  0.6665095451331605\n",
      "F1:  0.7343547130615424\n"
     ]
    }
   ],
   "source": [
    "# Creating the vectorizer using TfidfVectorizer\n",
    "vectorize = TfidfVectorizer(max_features=10)\n",
    "vectorize.fit(data['News'])\n",
    "\n",
    "train_x_vectorize = vectorize.transform(X_train)\n",
    "test_x_vectorize = vectorize.transform(X_test)\n",
    "\n",
    "# poly kernel\n",
    "SVMR = svm.SVC(C=1, kernel='poly', degree=3, gamma='auto')\n",
    "SVMR.fit(train_x_vectorize, Y_train)\n",
    "\n",
    "predR = SVMR.predict(test_x_vectorize)\n",
    "\n",
    "# metrics \n",
    "print(\"SVM metric scores for poly Kernel at 10 Features\")\n",
    "print(\"Accuracy: \", metrics.accuracy_score(Y_test, predR))\n",
    "print(\"Precision: \", metrics.precision_score(Y_test, predR))\n",
    "print(\"Recall: \", metrics.recall_score(Y_test, predR))\n",
    "print(\"F1: \", metrics.f1_score(Y_test, predR))"
   ]
  },
  {
   "cell_type": "code",
   "execution_count": 8,
   "id": "6a4bbd56",
   "metadata": {},
   "outputs": [
    {
     "name": "stdout",
     "output_type": "stream",
     "text": [
      "SVM metric scores for poly Kernel at 25 Features\n",
      "Accuracy:  0.5275055679287305\n",
      "Precision:  0.0\n",
      "Recall:  0.0\n",
      "F1:  0.0\n"
     ]
    },
    {
     "name": "stderr",
     "output_type": "stream",
     "text": [
      "D:\\Users\\Miko\\Anaconda3\\lib\\site-packages\\sklearn\\metrics\\_classification.py:1308: UndefinedMetricWarning: Precision is ill-defined and being set to 0.0 due to no predicted samples. Use `zero_division` parameter to control this behavior.\n",
      "  _warn_prf(average, modifier, msg_start, len(result))\n"
     ]
    }
   ],
   "source": [
    "# Creating the vectorizer using TfidfVectorizer\n",
    "vectorize = TfidfVectorizer(max_features=25)\n",
    "vectorize.fit(data['News'])\n",
    "\n",
    "train_x_vectorize = vectorize.transform(X_train)\n",
    "test_x_vectorize = vectorize.transform(X_test)\n",
    "\n",
    "# poly kernel\n",
    "SVMR = svm.SVC(C=1, kernel='poly', degree=3, gamma='auto')\n",
    "SVMR.fit(train_x_vectorize, Y_train)\n",
    "\n",
    "predR = SVMR.predict(test_x_vectorize)\n",
    "\n",
    "# metrics \n",
    "print(\"SVM metric scores for poly Kernel at 25 Features\")\n",
    "print(\"Accuracy: \", metrics.accuracy_score(Y_test, predR))\n",
    "print(\"Precision: \", metrics.precision_score(Y_test, predR))\n",
    "print(\"Recall: \", metrics.recall_score(Y_test, predR))\n",
    "print(\"F1: \", metrics.f1_score(Y_test, predR))"
   ]
  },
  {
   "cell_type": "code",
   "execution_count": 9,
   "id": "cec125c5",
   "metadata": {},
   "outputs": [
    {
     "name": "stdout",
     "output_type": "stream",
     "text": [
      "SVM metric scores for poly Kernel at 50 Features\n",
      "Accuracy:  0.5275055679287305\n",
      "Precision:  0.0\n",
      "Recall:  0.0\n",
      "F1:  0.0\n"
     ]
    },
    {
     "name": "stderr",
     "output_type": "stream",
     "text": [
      "D:\\Users\\Miko\\Anaconda3\\lib\\site-packages\\sklearn\\metrics\\_classification.py:1308: UndefinedMetricWarning: Precision is ill-defined and being set to 0.0 due to no predicted samples. Use `zero_division` parameter to control this behavior.\n",
      "  _warn_prf(average, modifier, msg_start, len(result))\n"
     ]
    }
   ],
   "source": [
    "# Creating the vectorizer using TfidfVectorizer\n",
    "vectorize = TfidfVectorizer(max_features=50)\n",
    "vectorize.fit(data['News'])\n",
    "\n",
    "train_x_vectorize = vectorize.transform(X_train)\n",
    "test_x_vectorize = vectorize.transform(X_test)\n",
    "\n",
    "# poly kernel\n",
    "SVMR = svm.SVC(C=1, kernel='poly', degree=3, gamma='auto')\n",
    "SVMR.fit(train_x_vectorize, Y_train)\n",
    "\n",
    "predR = SVMR.predict(test_x_vectorize)\n",
    "\n",
    "# metrics \n",
    "print(\"SVM metric scores for poly Kernel at 50 Features\")\n",
    "print(\"Accuracy: \", metrics.accuracy_score(Y_test, predR))\n",
    "print(\"Precision: \", metrics.precision_score(Y_test, predR))\n",
    "print(\"Recall: \", metrics.recall_score(Y_test, predR))\n",
    "print(\"F1: \", metrics.f1_score(Y_test, predR))"
   ]
  },
  {
   "cell_type": "code",
   "execution_count": 10,
   "id": "388eb952",
   "metadata": {},
   "outputs": [
    {
     "name": "stdout",
     "output_type": "stream",
     "text": [
      "SVM metric scores for poly Kernel at 100 Features\n",
      "Accuracy:  0.5275055679287305\n",
      "Precision:  0.0\n",
      "Recall:  0.0\n",
      "F1:  0.0\n"
     ]
    },
    {
     "name": "stderr",
     "output_type": "stream",
     "text": [
      "D:\\Users\\Miko\\Anaconda3\\lib\\site-packages\\sklearn\\metrics\\_classification.py:1308: UndefinedMetricWarning: Precision is ill-defined and being set to 0.0 due to no predicted samples. Use `zero_division` parameter to control this behavior.\n",
      "  _warn_prf(average, modifier, msg_start, len(result))\n"
     ]
    }
   ],
   "source": [
    "# Creating the vectorizer using TfidfVectorizer\n",
    "vectorize = TfidfVectorizer(max_features=100)\n",
    "vectorize.fit(data['News'])\n",
    "\n",
    "train_x_vectorize = vectorize.transform(X_train)\n",
    "test_x_vectorize = vectorize.transform(X_test)\n",
    "\n",
    "# poly kernel\n",
    "SVMR = svm.SVC(C=1, kernel='poly', degree=3, gamma='auto')\n",
    "SVMR.fit(train_x_vectorize, Y_train)\n",
    "\n",
    "predR = SVMR.predict(test_x_vectorize)\n",
    "\n",
    "# metrics \n",
    "print(\"SVM metric scores for poly Kernel at 100 Features\")\n",
    "print(\"Accuracy: \", metrics.accuracy_score(Y_test, predR))\n",
    "print(\"Precision: \", metrics.precision_score(Y_test, predR))\n",
    "print(\"Recall: \", metrics.recall_score(Y_test, predR))\n",
    "print(\"F1: \", metrics.f1_score(Y_test, predR))"
   ]
  },
  {
   "cell_type": "code",
   "execution_count": 11,
   "id": "5164d6f9",
   "metadata": {},
   "outputs": [
    {
     "name": "stdout",
     "output_type": "stream",
     "text": [
      "SVM metric scores for poly Kernel at 250 Features\n",
      "Accuracy:  0.5275055679287305\n",
      "Precision:  0.0\n",
      "Recall:  0.0\n",
      "F1:  0.0\n"
     ]
    },
    {
     "name": "stderr",
     "output_type": "stream",
     "text": [
      "D:\\Users\\Miko\\Anaconda3\\lib\\site-packages\\sklearn\\metrics\\_classification.py:1308: UndefinedMetricWarning: Precision is ill-defined and being set to 0.0 due to no predicted samples. Use `zero_division` parameter to control this behavior.\n",
      "  _warn_prf(average, modifier, msg_start, len(result))\n"
     ]
    }
   ],
   "source": [
    "# Creating the vectorizer using TfidfVectorizer\n",
    "vectorize = TfidfVectorizer(max_features=250)\n",
    "vectorize.fit(data['News'])\n",
    "\n",
    "train_x_vectorize = vectorize.transform(X_train)\n",
    "test_x_vectorize = vectorize.transform(X_test)\n",
    "\n",
    "# poly kernel\n",
    "SVMR = svm.SVC(C=1, kernel='poly', degree=3, gamma='auto')\n",
    "SVMR.fit(train_x_vectorize, Y_train)\n",
    "\n",
    "predR = SVMR.predict(test_x_vectorize)\n",
    "\n",
    "# metrics \n",
    "print(\"SVM metric scores for poly Kernel at 250 Features\")\n",
    "print(\"Accuracy: \", metrics.accuracy_score(Y_test, predR))\n",
    "print(\"Precision: \", metrics.precision_score(Y_test, predR))\n",
    "print(\"Recall: \", metrics.recall_score(Y_test, predR))\n",
    "print(\"F1: \", metrics.f1_score(Y_test, predR))"
   ]
  },
  {
   "cell_type": "markdown",
   "id": "8e829f3b",
   "metadata": {},
   "source": [
    "## Support Vector Machine (Polynomial)\n",
    "Trying to increase the accuracy by changing only the C value."
   ]
  },
  {
   "cell_type": "code",
   "execution_count": 14,
   "id": "5d5e1f62",
   "metadata": {},
   "outputs": [],
   "source": [
    "p_c_val = []\n",
    "p_accuracy_val = []\n",
    "p_precision_val = []\n",
    "p_recall_val = []\n",
    "p_f1_val = []"
   ]
  },
  {
   "cell_type": "code",
   "execution_count": 15,
   "id": "08c40639",
   "metadata": {},
   "outputs": [
    {
     "name": "stdout",
     "output_type": "stream",
     "text": [
      "SVM metric scores for Polynomial Kernel at C=1\n",
      "Accuracy:  0.5275055679287305\n",
      "Precision:  0.0\n",
      "Recall:  0.0\n",
      "F1:  0.0\n"
     ]
    },
    {
     "name": "stderr",
     "output_type": "stream",
     "text": [
      "D:\\Users\\Miko\\Anaconda3\\lib\\site-packages\\sklearn\\metrics\\_classification.py:1308: UndefinedMetricWarning: Precision is ill-defined and being set to 0.0 due to no predicted samples. Use `zero_division` parameter to control this behavior.\n",
      "  _warn_prf(average, modifier, msg_start, len(result))\n",
      "D:\\Users\\Miko\\Anaconda3\\lib\\site-packages\\sklearn\\metrics\\_classification.py:1308: UndefinedMetricWarning: Precision is ill-defined and being set to 0.0 due to no predicted samples. Use `zero_division` parameter to control this behavior.\n",
      "  _warn_prf(average, modifier, msg_start, len(result))\n"
     ]
    }
   ],
   "source": [
    "# Creating the vectorizer using TfidfVectorizer\n",
    "vectorize = TfidfVectorizer(max_features=25)\n",
    "vectorize.fit(data['News'])\n",
    "\n",
    "train_x_vectorize = vectorize.transform(X_train)\n",
    "test_x_vectorize = vectorize.transform(X_test)\n",
    "\n",
    "# Polynomial kernel\n",
    "SVMP = svm.SVC(C=1, kernel='poly', degree=3, gamma='auto')\n",
    "SVMP.fit(train_x_vectorize, Y_train)\n",
    "\n",
    "predP = SVMP.predict(test_x_vectorize)\n",
    "\n",
    "# metrics\n",
    "print(\"SVM metric scores for Polynomial Kernel at C=1\")\n",
    "print(\"Accuracy: \", metrics.accuracy_score(Y_test, predP))\n",
    "print(\"Precision: \", metrics.precision_score(Y_test, predP))\n",
    "print(\"Recall: \", metrics.recall_score(Y_test, predP))\n",
    "print(\"F1: \", metrics.f1_score(Y_test, predP))\n",
    "\n",
    "p_c_val.append(1)\n",
    "p_accuracy_val.append(metrics.accuracy_score(Y_test, predP))\n",
    "p_precision_val.append(metrics.precision_score(Y_test, predP))\n",
    "p_recall_val.append(metrics.recall_score(Y_test, predP))\n",
    "p_f1_val.append(metrics.f1_score(Y_test, predP))"
   ]
  },
  {
   "cell_type": "code",
   "execution_count": 16,
   "id": "2f97079f",
   "metadata": {},
   "outputs": [
    {
     "name": "stdout",
     "output_type": "stream",
     "text": [
      "SVM metric scores for Polynomial Kernel at C=10\n",
      "Accuracy:  0.7575723830734966\n",
      "Precision:  0.924404272801972\n",
      "Recall:  0.5302851755833137\n",
      "F1:  0.6739553691777744\n"
     ]
    }
   ],
   "source": [
    "# Creating the vectorizer using TfidfVectorizer\n",
    "vectorize = TfidfVectorizer(max_features=25)\n",
    "vectorize.fit(data['News'])\n",
    "\n",
    "train_x_vectorize = vectorize.transform(X_train)\n",
    "test_x_vectorize = vectorize.transform(X_test)\n",
    "\n",
    "# Polynomial kernel\n",
    "SVMP = svm.SVC(C=10, kernel='poly', degree=3, gamma='auto')\n",
    "SVMP.fit(train_x_vectorize, Y_train)\n",
    "\n",
    "predP = SVMP.predict(test_x_vectorize)\n",
    "\n",
    "# metrics\n",
    "print(\"SVM metric scores for Polynomial Kernel at C=10\")\n",
    "print(\"Accuracy: \", metrics.accuracy_score(Y_test, predP))\n",
    "print(\"Precision: \", metrics.precision_score(Y_test, predP))\n",
    "print(\"Recall: \", metrics.recall_score(Y_test, predP))\n",
    "print(\"F1: \", metrics.f1_score(Y_test, predP))\n",
    "\n",
    "p_c_val.append(10)\n",
    "p_accuracy_val.append(metrics.accuracy_score(Y_test, predP))\n",
    "p_precision_val.append(metrics.precision_score(Y_test, predP))\n",
    "p_recall_val.append(metrics.recall_score(Y_test, predP))\n",
    "p_f1_val.append(metrics.f1_score(Y_test, predP))"
   ]
  },
  {
   "cell_type": "code",
   "execution_count": 17,
   "id": "3a1bf0cd",
   "metadata": {},
   "outputs": [
    {
     "name": "stdout",
     "output_type": "stream",
     "text": [
      "SVM metric scores for Polynomial Kernel at C=25\n",
      "Accuracy:  0.8551224944320712\n",
      "Precision:  0.9132022471910113\n",
      "Recall:  0.7662031581428235\n",
      "F1:  0.8332692554145841\n"
     ]
    }
   ],
   "source": [
    "# Creating the vectorizer using TfidfVectorizer\n",
    "vectorize = TfidfVectorizer(max_features=25)\n",
    "vectorize.fit(data['News'])\n",
    "\n",
    "train_x_vectorize = vectorize.transform(X_train)\n",
    "test_x_vectorize = vectorize.transform(X_test)\n",
    "\n",
    "# Polynomial kernel\n",
    "SVMP = svm.SVC(C=25, kernel='poly', degree=3, gamma='auto')\n",
    "SVMP.fit(train_x_vectorize, Y_train)\n",
    "\n",
    "predP = SVMP.predict(test_x_vectorize)\n",
    "\n",
    "# metrics\n",
    "print(\"SVM metric scores for Polynomial Kernel at C=25\")\n",
    "print(\"Accuracy: \", metrics.accuracy_score(Y_test, predP))\n",
    "print(\"Precision: \", metrics.precision_score(Y_test, predP))\n",
    "print(\"Recall: \", metrics.recall_score(Y_test, predP))\n",
    "print(\"F1: \", metrics.f1_score(Y_test, predP))\n",
    "\n",
    "p_c_val.append(25)\n",
    "p_accuracy_val.append(metrics.accuracy_score(Y_test, predP))\n",
    "p_precision_val.append(metrics.precision_score(Y_test, predP))\n",
    "p_recall_val.append(metrics.recall_score(Y_test, predP))\n",
    "p_f1_val.append(metrics.f1_score(Y_test, predP))"
   ]
  },
  {
   "cell_type": "code",
   "execution_count": 18,
   "id": "32d1bce1",
   "metadata": {},
   "outputs": [
    {
     "name": "stdout",
     "output_type": "stream",
     "text": [
      "SVM metric scores for Polynomial Kernel at C=50\n",
      "Accuracy:  0.8838530066815145\n",
      "Precision:  0.9145077720207254\n",
      "Recall:  0.8319585199151543\n",
      "F1:  0.8712822411452549\n"
     ]
    }
   ],
   "source": [
    "# Creating the vectorizer using TfidfVectorizer\n",
    "vectorize = TfidfVectorizer(max_features=25)\n",
    "vectorize.fit(data['News'])\n",
    "\n",
    "train_x_vectorize = vectorize.transform(X_train)\n",
    "test_x_vectorize = vectorize.transform(X_test)\n",
    "\n",
    "# Polynomial kernel\n",
    "SVMP = svm.SVC(C=50, kernel='poly', degree=3, gamma='auto')\n",
    "SVMP.fit(train_x_vectorize, Y_train)\n",
    "\n",
    "predP = SVMP.predict(test_x_vectorize)\n",
    "\n",
    "# metrics\n",
    "print(\"SVM metric scores for Polynomial Kernel at C=50\")\n",
    "print(\"Accuracy: \", metrics.accuracy_score(Y_test, predP))\n",
    "print(\"Precision: \", metrics.precision_score(Y_test, predP))\n",
    "print(\"Recall: \", metrics.recall_score(Y_test, predP))\n",
    "print(\"F1: \", metrics.f1_score(Y_test, predP))\n",
    "\n",
    "p_c_val.append(50)\n",
    "p_accuracy_val.append(metrics.accuracy_score(Y_test, predP))\n",
    "p_precision_val.append(metrics.precision_score(Y_test, predP))\n",
    "p_recall_val.append(metrics.recall_score(Y_test, predP))\n",
    "p_f1_val.append(metrics.f1_score(Y_test, predP))"
   ]
  },
  {
   "cell_type": "code",
   "execution_count": 19,
   "id": "b0cde3b4",
   "metadata": {},
   "outputs": [
    {
     "name": "stdout",
     "output_type": "stream",
     "text": [
      "SVM metric scores for Polynomial Kernel at C=100\n",
      "Accuracy:  0.9051224944320713\n",
      "Precision:  0.9258980155739764\n",
      "Recall:  0.8687249587555974\n",
      "F1:  0.8964007782101167\n"
     ]
    }
   ],
   "source": [
    "# Creating the vectorizer using TfidfVectorizer\n",
    "vectorize = TfidfVectorizer(max_features=25)\n",
    "vectorize.fit(data['News'])\n",
    "\n",
    "train_x_vectorize = vectorize.transform(X_train)\n",
    "test_x_vectorize = vectorize.transform(X_test)\n",
    "\n",
    "# Polynomial kernel\n",
    "SVMP = svm.SVC(C=100, kernel='poly', degree=3, gamma='auto')\n",
    "SVMP.fit(train_x_vectorize, Y_train)\n",
    "\n",
    "predP = SVMP.predict(test_x_vectorize)\n",
    "\n",
    "# metrics\n",
    "print(\"SVM metric scores for Polynomial Kernel at C=100\")\n",
    "print(\"Accuracy: \", metrics.accuracy_score(Y_test, predP))\n",
    "print(\"Precision: \", metrics.precision_score(Y_test, predP))\n",
    "print(\"Recall: \", metrics.recall_score(Y_test, predP))\n",
    "print(\"F1: \", metrics.f1_score(Y_test, predP))\n",
    "\n",
    "p_c_val.append(100)\n",
    "p_accuracy_val.append(metrics.accuracy_score(Y_test, predP))\n",
    "p_precision_val.append(metrics.precision_score(Y_test, predP))\n",
    "p_recall_val.append(metrics.recall_score(Y_test, predP))\n",
    "p_f1_val.append(metrics.f1_score(Y_test, predP))"
   ]
  },
  {
   "cell_type": "code",
   "execution_count": 20,
   "id": "67233083",
   "metadata": {},
   "outputs": [
    {
     "name": "stdout",
     "output_type": "stream",
     "text": [
      "SVM metric scores for Polynomial Kernel at C=250\n",
      "Accuracy:  0.9368596881959911\n",
      "Precision:  0.952263779527559\n",
      "Recall:  0.9120905020032996\n",
      "F1:  0.931744312026002\n"
     ]
    }
   ],
   "source": [
    "# Creating the vectorizer using TfidfVectorizer\n",
    "vectorize = TfidfVectorizer(max_features=25)\n",
    "vectorize.fit(data['News'])\n",
    "\n",
    "train_x_vectorize = vectorize.transform(X_train)\n",
    "test_x_vectorize = vectorize.transform(X_test)\n",
    "\n",
    "# Polynomial kernel\n",
    "SVMP = svm.SVC(C=250, kernel='poly', degree=3, gamma='auto')\n",
    "SVMP.fit(train_x_vectorize, Y_train)\n",
    "\n",
    "predP = SVMP.predict(test_x_vectorize)\n",
    "\n",
    "# metrics\n",
    "print(\"SVM metric scores for Polynomial Kernel at C=250\")\n",
    "print(\"Accuracy: \", metrics.accuracy_score(Y_test, predP))\n",
    "print(\"Precision: \", metrics.precision_score(Y_test, predP))\n",
    "print(\"Recall: \", metrics.recall_score(Y_test, predP))\n",
    "print(\"F1: \", metrics.f1_score(Y_test, predP))\n",
    "\n",
    "p_c_val.append(250)\n",
    "p_accuracy_val.append(metrics.accuracy_score(Y_test, predP))\n",
    "p_precision_val.append(metrics.precision_score(Y_test, predP))\n",
    "p_recall_val.append(metrics.recall_score(Y_test, predP))\n",
    "p_f1_val.append(metrics.f1_score(Y_test, predP))"
   ]
  },
  {
   "cell_type": "code",
   "execution_count": 21,
   "id": "23e5a19b",
   "metadata": {},
   "outputs": [
    {
     "name": "stdout",
     "output_type": "stream",
     "text": [
      "SVM metric scores for Polynomial Kernel at C=500\n",
      "Accuracy:  0.9569042316258352\n",
      "Precision:  0.9690997566909976\n",
      "Recall:  0.9387226019325948\n",
      "F1:  0.953669340356758\n"
     ]
    }
   ],
   "source": [
    "# Creating the vectorizer using TfidfVectorizer\n",
    "vectorize = TfidfVectorizer(max_features=25)\n",
    "vectorize.fit(data['News'])\n",
    "\n",
    "train_x_vectorize = vectorize.transform(X_train)\n",
    "test_x_vectorize = vectorize.transform(X_test)\n",
    "\n",
    "# Polynomial kernel\n",
    "SVMP = svm.SVC(C=500, kernel='poly', degree=3, gamma='auto')\n",
    "SVMP.fit(train_x_vectorize, Y_train)\n",
    "\n",
    "predP = SVMP.predict(test_x_vectorize)\n",
    "\n",
    "# metrics\n",
    "print(\"SVM metric scores for Polynomial Kernel at C=500\")\n",
    "print(\"Accuracy: \", metrics.accuracy_score(Y_test, predP))\n",
    "print(\"Precision: \", metrics.precision_score(Y_test, predP))\n",
    "print(\"Recall: \", metrics.recall_score(Y_test, predP))\n",
    "print(\"F1: \", metrics.f1_score(Y_test, predP))\n",
    "\n",
    "p_c_val.append(500)\n",
    "p_accuracy_val.append(metrics.accuracy_score(Y_test, predP))\n",
    "p_precision_val.append(metrics.precision_score(Y_test, predP))\n",
    "p_recall_val.append(metrics.recall_score(Y_test, predP))\n",
    "p_f1_val.append(metrics.f1_score(Y_test, predP))"
   ]
  },
  {
   "cell_type": "code",
   "execution_count": 22,
   "id": "2e28d13b",
   "metadata": {},
   "outputs": [
    {
     "name": "stdout",
     "output_type": "stream",
     "text": [
      "SVM metric scores for Polynomial Kernel at C=750\n",
      "Accuracy:  0.9658129175946548\n",
      "Precision:  0.9762826718296225\n",
      "Recall:  0.9507423992458166\n",
      "F1:  0.9633432835820896\n"
     ]
    }
   ],
   "source": [
    "# Creating the vectorizer using TfidfVectorizer\n",
    "vectorize = TfidfVectorizer(max_features=25)\n",
    "vectorize.fit(data['News'])\n",
    "\n",
    "train_x_vectorize = vectorize.transform(X_train)\n",
    "test_x_vectorize = vectorize.transform(X_test)\n",
    "\n",
    "# Polynomial kernel\n",
    "SVMP = svm.SVC(C=750, kernel='poly', degree=3, gamma='auto')\n",
    "SVMP.fit(train_x_vectorize, Y_train)\n",
    "\n",
    "predP = SVMP.predict(test_x_vectorize)\n",
    "\n",
    "# metrics\n",
    "print(\"SVM metric scores for Polynomial Kernel at C=750\")\n",
    "print(\"Accuracy: \", metrics.accuracy_score(Y_test, predP))\n",
    "print(\"Precision: \", metrics.precision_score(Y_test, predP))\n",
    "print(\"Recall: \", metrics.recall_score(Y_test, predP))\n",
    "print(\"F1: \", metrics.f1_score(Y_test, predP))\n",
    "\n",
    "p_c_val.append(750)\n",
    "p_accuracy_val.append(metrics.accuracy_score(Y_test, predP))\n",
    "p_precision_val.append(metrics.precision_score(Y_test, predP))\n",
    "p_recall_val.append(metrics.recall_score(Y_test, predP))\n",
    "p_f1_val.append(metrics.f1_score(Y_test, predP))"
   ]
  },
  {
   "cell_type": "code",
   "execution_count": 23,
   "id": "8ecb04b1",
   "metadata": {},
   "outputs": [
    {
     "name": "stdout",
     "output_type": "stream",
     "text": [
      "SVM metric scores for Polynomial Kernel at C=1000\n",
      "Accuracy:  0.9712694877505568\n",
      "Precision:  0.980236201494336\n",
      "Recall:  0.958519915154372\n",
      "F1:  0.969256434699714\n"
     ]
    }
   ],
   "source": [
    "# Creating the vectorizer using TfidfVectorizer\n",
    "vectorize = TfidfVectorizer(max_features=25)\n",
    "vectorize.fit(data['News'])\n",
    "\n",
    "train_x_vectorize = vectorize.transform(X_train)\n",
    "test_x_vectorize = vectorize.transform(X_test)\n",
    "\n",
    "# Polynomial kernel\n",
    "SVMP = svm.SVC(C=1000, kernel='poly', degree=3, gamma='auto')\n",
    "SVMP.fit(train_x_vectorize, Y_train)\n",
    "\n",
    "predP = SVMP.predict(test_x_vectorize)\n",
    "\n",
    "# metrics\n",
    "print(\"SVM metric scores for Polynomial Kernel at C=1000\")\n",
    "print(\"Accuracy: \", metrics.accuracy_score(Y_test, predP))\n",
    "print(\"Precision: \", metrics.precision_score(Y_test, predP))\n",
    "print(\"Recall: \", metrics.recall_score(Y_test, predP))\n",
    "print(\"F1: \", metrics.f1_score(Y_test, predP))\n",
    "\n",
    "p_c_val.append(1000)\n",
    "p_accuracy_val.append(metrics.accuracy_score(Y_test, predP))\n",
    "p_precision_val.append(metrics.precision_score(Y_test, predP))\n",
    "p_recall_val.append(metrics.recall_score(Y_test, predP))\n",
    "p_f1_val.append(metrics.f1_score(Y_test, predP))"
   ]
  },
  {
   "cell_type": "code",
   "execution_count": 24,
   "id": "ab27fa0d",
   "metadata": {},
   "outputs": [
    {
     "data": {
      "text/plain": [
       "<matplotlib.legend.Legend at 0x23a5461de20>"
      ]
     },
     "execution_count": 24,
     "metadata": {},
     "output_type": "execute_result"
    },
    {
     "data": {
      "image/png": "[encoded data removed]",
      "text/plain": [
       "<Figure size 432x288 with 1 Axes>"
      ]
     },
     "metadata": {
      "needs_background": "light"
     },
     "output_type": "display_data"
    }
   ],
   "source": [
    "# Plot the metrics vs C_val\n",
    "fig, ax = plt.subplots()\n",
    "ax.set(xlabel='C_val',\n",
    "          ylabel=\"Metrics\",\n",
    "          title=\"Metrics vs C_val for polynomial\")\n",
    "\n",
    "ax.plot(p_c_val, p_accuracy_val, label = \"Accuracy\", linestyle='-')\n",
    "ax.plot(p_c_val, p_precision_val, label = \"Precision\", linestyle='--')\n",
    "ax.plot(p_c_val, p_recall_val, label = \"Recall\", linestyle='-.')\n",
    "ax.plot(p_c_val, p_f1_val, label = \"F1\", linestyle=':')\n",
    "ax.legend(loc=\"lower left\")"
   ]
  },
  {
   "cell_type": "code",
   "execution_count": null,
   "id": "ebb97abf",
   "metadata": {},
   "outputs": [],
   "source": []
  }
 ],
 "metadata": {
  "kernelspec": {
   "display_name": "Python 3 (ipykernel)",
   "language": "python",
   "name": "python3"
  },
  "language_info": {
   "codemirror_mode": {
    "name": "ipython",
    "version": 3
   },
   "file_extension": ".py",
   "mimetype": "text/x-python",
   "name": "python",
   "nbconvert_exporter": "python",
   "pygments_lexer": "ipython3",
   "version": "3.8.12"
  }
 },
 "nbformat": 4,
 "nbformat_minor": 5
}
